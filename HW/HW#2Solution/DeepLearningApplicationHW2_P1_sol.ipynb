{
 "cells": [
  {
   "cell_type": "markdown",
   "metadata": {
    "colab_type": "text",
    "id": "ynWQGlTI2xFI"
   },
   "source": [
    "**Problem #1**"
   ]
  },
  {
   "cell_type": "code",
   "execution_count": 0,
   "metadata": {
    "colab": {},
    "colab_type": "code",
    "id": "7Z_yA_Wd2uiK"
   },
   "outputs": [],
   "source": [
    "#Load Modules\n",
    "\n",
    "\n",
    "import numpy as np\n",
    "from sklearn.model_selection import train_test_split\n",
    "from sklearn.datasets import load_diabetes\n",
    "from sklearn.linear_model import Ridge, Lasso\n",
    "from sklearn.preprocessing import MinMaxScaler, RobustScaler, StandardScaler\n",
    "from sklearn.metrics import r2_score\n",
    "from sklearn.svm import SVR, LinearSVR\n",
    "from sklearn.neural_network import MLPRegressor\n",
    "\n"
   ]
  },
  {
   "cell_type": "code",
   "execution_count": 0,
   "metadata": {
    "colab": {},
    "colab_type": "code",
    "id": "UUV1SpFv29WF"
   },
   "outputs": [],
   "source": [
    "def trainRidge(train_data, train_label, test_data, test_label):\n",
    "\n",
    "    model = Ridge(alpha=0.1)\n",
    "\n",
    "    model.fit(train_data, train_label)\n",
    "    pred_train = model.predict(train_data)\n",
    "    pred_test = model.predict(test_data)\n",
    "\n",
    "    r2_train = r2_score(train_label, pred_train)  \n",
    "    r2_test = r2_score(test_label, pred_test)\n",
    "\n",
    "    print(\"Ridge r2 score\")\n",
    "    print(\"train: {:.4}\".format(r2_train))\n",
    "    print(\"test: {:.4}\".format(r2_test))\n"
   ]
  },
  {
   "cell_type": "code",
   "execution_count": 0,
   "metadata": {
    "colab": {},
    "colab_type": "code",
    "id": "lMT17wDQI8bk"
   },
   "outputs": [],
   "source": [
    "def trainSVM(train_data, train_label, test_data, test_label):\n",
    "\n",
    "    model = LinearSVR(C=9.0, max_iter=5000, random_state=0)\n",
    "\n",
    "    model.fit(train_data, train_label)\n",
    "    pred_train = model.predict(train_data)\n",
    "    pred_test = model.predict(test_data)\n",
    "\n",
    "    r2_train = r2_score(train_label, pred_train)  \n",
    "    r2_test = r2_score(test_label, pred_test)\n",
    "\n",
    "    print(\"SVM r2 score\")\n",
    "    print(\"train: {:.4}\".format(r2_train))\n",
    "    print(\"test: {:.4}\".format(r2_test))"
   ]
  },
  {
   "cell_type": "code",
   "execution_count": 0,
   "metadata": {
    "colab": {},
    "colab_type": "code",
    "id": "CcukIfVxZ-sf"
   },
   "outputs": [],
   "source": [
    "def trainMLP(train_data, train_label, test_data, test_label):\n",
    "\n",
    "    model = MLPRegressor(hidden_layer_sizes=(160, ), learning_rate_init=0.0005, batch_size=310, max_iter=100000, alpha=0.001, random_state=0)\n",
    "    \n",
    "    model.fit(train_data, train_label)\n",
    "    pred_train = model.predict(train_data)\n",
    "    pred_test = model.predict(test_data)\n",
    "\n",
    "    r2_train = r2_score(train_label, pred_train)  \n",
    "    r2_test = r2_score(test_label, pred_test)\n",
    "\n",
    "    print(\"MLP r2 score\")\n",
    "    print(\"train: {:.4}\".format(r2_train))\n",
    "    print(\"test: {:.4}\".format(r2_test))"
   ]
  },
  {
   "cell_type": "code",
   "execution_count": 20,
   "metadata": {
    "colab": {
     "base_uri": "https://localhost:8080/",
     "height": 209
    },
    "colab_type": "code",
    "executionInfo": {
     "elapsed": 5925,
     "status": "ok",
     "timestamp": 1577675198546,
     "user": {
      "displayName": "Gr1nder",
      "photoUrl": "",
      "userId": "02359964555369738114"
     },
     "user_tz": -540
    },
    "id": "yBv-MG3k3BuV",
    "outputId": "93a0cfef-8fbc-46af-eaca-340705141c89"
   },
   "outputs": [
    {
     "name": "stdout",
     "output_type": "stream",
     "text": [
      "Ridge r2 score\n",
      "train: 0.555\n",
      "test: 0.3569\n",
      "\n",
      "SVM r2 score\n",
      "train: 0.5291\n",
      "test: 0.3992\n",
      "\n",
      "MLP r2 score\n",
      "train: 0.5246\n",
      "test: 0.3988\n"
     ]
    }
   ],
   "source": [
    "if __name__ == \"__main__\":\n",
    "    \n",
    "    data_x, data_y = load_diabetes(True)    \n",
    "    train_x, test_x, train_y, test_y = train_test_split(data_x, data_y, random_state=0)\n",
    "\n",
    "    scaler = MinMaxScaler()\n",
    "    train_data_scaled = scaler.fit_transform(train_x)\n",
    "    test_data_scaled = scaler.transform(test_x)\n",
    "    \n",
    "    trainRidge(train_data_scaled, train_y, test_data_scaled, test_y)\n",
    "    print(\"\")\n",
    "    trainSVM(train_data_scaled, train_y, test_data_scaled, test_y)\n",
    "    print(\"\")\n",
    "    trainMLP(train_data_scaled, train_y, test_data_scaled, test_y)\n",
    "    \n",
    "    \n",
    "\n",
    "\n",
    "    "
   ]
  }
 ],
 "metadata": {
  "colab": {
   "collapsed_sections": [],
   "name": "Homework #2-1.ipynb",
   "provenance": []
  },
  "kernelspec": {
   "display_name": "Python 3",
   "language": "python",
   "name": "python3"
  },
  "language_info": {
   "codemirror_mode": {
    "name": "ipython",
    "version": 3
   },
   "file_extension": ".py",
   "mimetype": "text/x-python",
   "name": "python",
   "nbconvert_exporter": "python",
   "pygments_lexer": "ipython3",
   "version": "3.7.5"
  }
 },
 "nbformat": 4,
 "nbformat_minor": 1
}
