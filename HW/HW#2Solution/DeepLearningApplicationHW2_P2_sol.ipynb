{
 "cells": [
  {
   "cell_type": "markdown",
   "metadata": {
    "colab_type": "text",
    "id": "7tQY3gkm9WBn"
   },
   "source": [
    "**Problem #2**"
   ]
  },
  {
   "cell_type": "code",
   "execution_count": 0,
   "metadata": {
    "colab": {},
    "colab_type": "code",
    "id": "YszaaWzT9Q7n"
   },
   "outputs": [],
   "source": [
    "#Load Modules\n",
    "\n",
    "import numpy as np\n",
    "from sklearn.model_selection import train_test_split\n",
    "from sklearn.datasets import load_wine\n",
    "from sklearn.linear_model import LogisticRegression\n",
    "from sklearn.preprocessing import MinMaxScaler, RobustScaler, StandardScaler\n",
    "from sklearn.metrics import accuracy_score\n",
    "from sklearn.svm import SVC, LinearSVC\n",
    "from sklearn.neural_network import MLPClassifier\n"
   ]
  },
  {
   "cell_type": "code",
   "execution_count": 0,
   "metadata": {
    "colab": {},
    "colab_type": "code",
    "id": "SXKq8P5RNUaV"
   },
   "outputs": [],
   "source": [
    "def trainLogistic(train_data, train_label, test_data, test_label):\n",
    "\n",
    "    model = LogisticRegression(C=1000.0, random_state=0, solver=\"lbfgs\", multi_class=\"auto\")\n",
    "\n",
    "    model.fit(train_data_scaled, train_label)\n",
    "    pred_train = model.predict(train_data_scaled)\n",
    "    pred_test = model.predict(test_data_scaled)\n",
    "\n",
    "    acc_train = accuracy_score(train_label, pred_train)  \n",
    "    acc_test = accuracy_score(test_label, pred_test)\n",
    "\n",
    "    print(\"Logistc Accuracy\")\n",
    "    print(\"train: {:.4}\".format(acc_train))\n",
    "    print(\"test: {:.4}\".format(acc_test))\n"
   ]
  },
  {
   "cell_type": "code",
   "execution_count": 0,
   "metadata": {
    "colab": {},
    "colab_type": "code",
    "id": "218LULytNUhu"
   },
   "outputs": [],
   "source": [
    "def trainSVM(train_data, train_label, test_data, test_label):\n",
    "\n",
    "    model = LinearSVC(C=10.0, max_iter=5000)\n",
    "\n",
    "    model.fit(train_data_scaled, train_label)\n",
    "    pred_train = model.predict(train_data_scaled)\n",
    "    pred_test = model.predict(test_data_scaled)\n",
    "\n",
    "    acc_train = accuracy_score(train_label, pred_train)  \n",
    "    acc_test = accuracy_score(test_label, pred_test)\n",
    "\n",
    "    print(\"SVM Accuracy\")\n",
    "    print(\"train: {:.4}\".format(acc_train))\n",
    "    print(\"test: {:.4}\".format(acc_test))\n"
   ]
  },
  {
   "cell_type": "code",
   "execution_count": 0,
   "metadata": {
    "colab": {},
    "colab_type": "code",
    "id": "kXq8yiNdNUpC"
   },
   "outputs": [],
   "source": [
    "def trainMLP(train_data, train_label, test_data, test_label):\n",
    "\n",
    "    model = MLPClassifier(hidden_layer_sizes=(150, 100), learning_rate_init=0.0005, batch_size=64, max_iter=10000, alpha=0.0005, random_state=0)\n",
    "\n",
    "    model.fit(train_data_scaled, train_label)\n",
    "    pred_train = model.predict(train_data_scaled)\n",
    "    pred_test = model.predict(test_data_scaled)\n",
    "\n",
    "    acc_train = accuracy_score(train_label, pred_train)  \n",
    "    acc_test = accuracy_score(test_label, pred_test)\n",
    "\n",
    "    print(\"MLP Accuracy\")\n",
    "    print(\"train: {:.4}\".format(acc_train))\n",
    "    print(\"test: {:.4}\".format(acc_test))\n"
   ]
  },
  {
   "cell_type": "code",
   "execution_count": 25,
   "metadata": {
    "colab": {
     "base_uri": "https://localhost:8080/",
     "height": 209
    },
    "colab_type": "code",
    "executionInfo": {
     "elapsed": 3656,
     "status": "ok",
     "timestamp": 1577675191968,
     "user": {
      "displayName": "Gr1nder",
      "photoUrl": "",
      "userId": "02359964555369738114"
     },
     "user_tz": -540
    },
    "id": "o9TBeZpJNUv7",
    "outputId": "f11f0f59-ba40-4a1b-e745-a1c0178b602e"
   },
   "outputs": [
    {
     "name": "stdout",
     "output_type": "stream",
     "text": [
      "Logistc Accuracy\n",
      "train: 1.0\n",
      "test: 1.0\n",
      "\n",
      "SVM Accuracy\n",
      "train: 1.0\n",
      "test: 1.0\n",
      "\n",
      "MLP Accuracy\n",
      "train: 1.0\n",
      "test: 1.0\n"
     ]
    }
   ],
   "source": [
    "if __name__ == \"__main__\":\n",
    "    \n",
    "    data_x, data_y = load_wine(True)    \n",
    "    train_x, test_x, train_y, test_y = train_test_split(data_x, data_y, random_state=0)\n",
    "\n",
    "    scaler = MinMaxScaler()\n",
    "    train_data_scaled = scaler.fit_transform(train_x)\n",
    "    test_data_scaled = scaler.transform(test_x)\n",
    "\n",
    "    trainLogistic(train_data_scaled, train_y, test_data_scaled, test_y)\n",
    "    print(\"\")\n",
    "    trainSVM(train_data_scaled, train_y, test_data_scaled, test_y)\n",
    "    print(\"\")\n",
    "    trainMLP(train_data_scaled, train_y, test_data_scaled, test_y)"
   ]
  }
 ],
 "metadata": {
  "colab": {
   "collapsed_sections": [],
   "name": "Homework #2-2.ipynb",
   "provenance": []
  },
  "kernelspec": {
   "display_name": "Python 3",
   "language": "python",
   "name": "python3"
  },
  "language_info": {
   "codemirror_mode": {
    "name": "ipython",
    "version": 3
   },
   "file_extension": ".py",
   "mimetype": "text/x-python",
   "name": "python",
   "nbconvert_exporter": "python",
   "pygments_lexer": "ipython3",
   "version": "3.7.5"
  }
 },
 "nbformat": 4,
 "nbformat_minor": 1
}
