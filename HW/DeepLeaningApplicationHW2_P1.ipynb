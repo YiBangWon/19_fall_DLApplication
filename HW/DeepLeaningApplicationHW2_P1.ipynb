{
  "nbformat": 4,
  "nbformat_minor": 0,
  "metadata": {
    "colab": {
      "name": "HW2_P1.ipynb",
      "provenance": [],
      "collapsed_sections": []
    },
    "kernelspec": {
      "name": "python3",
      "display_name": "Python 3"
    }
  },
  "cells": [
    {
      "cell_type": "code",
      "metadata": {
        "id": "HrSp9JfRHdAN",
        "colab_type": "code",
        "colab": {}
      },
      "source": [
        "import sklearn as sk\n",
        "import numpy as np\n",
        "import pandas as pd\n",
        "from sklearn.model_selection import train_test_split\n",
        "from sklearn.datasets import load_diabetes\n",
        "\n",
        "diabetes = load_diabetes()"
      ],
      "execution_count": 0,
      "outputs": []
    },
    {
      "cell_type": "code",
      "metadata": {
        "id": "ZBvOta1iMRa5",
        "colab_type": "code",
        "outputId": "aeebb0e5-f66d-4b73-b7e7-dd3fa5908b9b",
        "colab": {
          "base_uri": "https://localhost:8080/",
          "height": 52
        }
      },
      "source": [
        "from sklearn.linear_model import Ridge\n",
        "\n",
        "X_train, X_test, y_train, y_test = train_test_split(diabetes['data'], diabetes['target'], random_state = 0)\n",
        "\n",
        "ridge01 = Ridge(alpha=0.2).fit(X_train, y_train)\n",
        "\n",
        "print(\"a = 0.2, Training score: {:.2f}\".format(ridge01.score(X_train, y_train)))\n",
        "print(\"a = 0.2, Test score: {:.2f}\".format(ridge01.score(X_test, y_test)))"
      ],
      "execution_count": 64,
      "outputs": [
        {
          "output_type": "stream",
          "text": [
            "a = 0.2, Training score: 0.53\n",
            "a = 0.2, Test score: 0.37\n"
          ],
          "name": "stdout"
        }
      ]
    },
    {
      "cell_type": "code",
      "metadata": {
        "id": "Yf8kfVtyP3Ro",
        "colab_type": "code",
        "outputId": "c8a932b1-2369-40c1-963f-3fe9ea9b42f9",
        "colab": {
          "base_uri": "https://localhost:8080/",
          "height": 52
        }
      },
      "source": [
        "from sklearn.svm import SVR\n",
        "from sklearn.metrics import r2_score\n",
        "\n",
        "svr = SVR(kernel='linear', C=100)\n",
        "#svr2 = SVR(kernel='poly',C=1000,degree=2)\n",
        "svr.fit(X_train, y_train)\n",
        "#svr2.fit(x0Train, yTrain)\n",
        "#y = svr.predict(x0Test)\n",
        "#y2 = svr.predict(x0Test)\n",
        "\n",
        "print('Training score: {:.2f}'.format(svr.score(X_train,y_train)))\n",
        "print('Test score: {:.2f}'.format(svr.score(X_test, y_test)))\n"
      ],
      "execution_count": 68,
      "outputs": [
        {
          "output_type": "stream",
          "text": [
            "Training score: 0.49\n",
            "Test score: 0.37\n"
          ],
          "name": "stdout"
        }
      ]
    },
    {
      "cell_type": "code",
      "metadata": {
        "id": "N7S9V_glx1Ys",
        "colab_type": "code",
        "outputId": "3ba3120c-33e9-496f-b097-17b90a78fbbf",
        "colab": {
          "base_uri": "https://localhost:8080/",
          "height": 106
        }
      },
      "source": [
        "from sklearn.neural_network import MLPRegressor\n",
        "mlpR = MLPRegressor(activation = 'relu', hidden_layer_sizes = (500, 500), max_iter= 1000).fit(X_train, y_train)\n",
        "\n",
        "\n",
        "print(\"Training set score: {:.2f}\".format(mlpR.score(X_train, y_train)))\n",
        "print(\"Test set score: {:.2f}\".format(mlpR.score(X_test, y_test)))"
      ],
      "execution_count": 57,
      "outputs": [
        {
          "output_type": "stream",
          "text": [
            "Training set score: 0.60\n",
            "Test set score: 0.35\n"
          ],
          "name": "stdout"
        },
        {
          "output_type": "stream",
          "text": [
            "/usr/local/lib/python3.6/dist-packages/sklearn/neural_network/multilayer_perceptron.py:566: ConvergenceWarning: Stochastic Optimizer: Maximum iterations (1000) reached and the optimization hasn't converged yet.\n",
            "  % self.max_iter, ConvergenceWarning)\n"
          ],
          "name": "stderr"
        }
      ]
    }
  ]
}